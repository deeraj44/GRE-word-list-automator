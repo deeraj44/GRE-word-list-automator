{
 "cells": [
  {
   "cell_type": "code",
   "execution_count": 12,
   "metadata": {},
   "outputs": [],
   "source": [
    "## Just run this cell once (to create a csv file to store all words)\n",
    "## RUN THIS CELL ONLY IF ITS YOUR FIRST TIME RUNNING THE CODE\n",
    "dff = pd.DataFrame(columns=[\"Word\",\"Meaning\"])\n",
    "dff.to_csv('finalWordList.csv',index=False)"
   ]
  },
  {
   "cell_type": "code",
   "execution_count": 2,
   "metadata": {},
   "outputs": [
    {
     "name": "stdout",
     "output_type": "stream",
     "text": [
      "Enter topic: erudite\n",
      "characterized by great knowledge; learned or scholarly: an erudite professor; an erudite commentary.\n"
     ]
    }
   ],
   "source": [
    "import pandas as pd\n",
    "from bs4 import BeautifulSoup\n",
    "from urllib.request import urlopen\n",
    "df = pd.DataFrame(columns=[\"Word\",\"Meaning\"])\n",
    "search = input(\"Enter topic: \")\n",
    "link = f\"https://www.dictionary.com/browse/{search}\"\n",
    "html = urlopen(link).read()\n",
    "soup = BeautifulSoup(html, 'html.parser')\n",
    "meaning = soup.find(\"span\",class_=\"one-click-content\")\n",
    "print(meaning.text)\n",
    "dff = pd.read_csv(\"finalWordList.csv\")\n",
    "dff = dff.append({'Word':search,'Meaning':meaning.text},ignore_index=True)\n",
    "dff.to_csv('finalWordList.csv',index=False)"
   ]
  },
  {
   "cell_type": "code",
   "execution_count": 3,
   "metadata": {},
   "outputs": [
    {
     "data": {
      "text/html": [
       "<div>\n",
       "<style scoped>\n",
       "    .dataframe tbody tr th:only-of-type {\n",
       "        vertical-align: middle;\n",
       "    }\n",
       "\n",
       "    .dataframe tbody tr th {\n",
       "        vertical-align: top;\n",
       "    }\n",
       "\n",
       "    .dataframe thead th {\n",
       "        text-align: right;\n",
       "    }\n",
       "</style>\n",
       "<table border=\"1\" class=\"dataframe\">\n",
       "  <thead>\n",
       "    <tr style=\"text-align: right;\">\n",
       "      <th></th>\n",
       "      <th>Word</th>\n",
       "      <th>Meaning</th>\n",
       "    </tr>\n",
       "  </thead>\n",
       "  <tbody>\n",
       "    <tr>\n",
       "      <th>0</th>\n",
       "      <td>languid</td>\n",
       "      <td>lacking in vigor or vitality; slack or slow:a ...</td>\n",
       "    </tr>\n",
       "    <tr>\n",
       "      <th>1</th>\n",
       "      <td>censure</td>\n",
       "      <td>strong or vehement expression of disapproval: ...</td>\n",
       "    </tr>\n",
       "    <tr>\n",
       "      <th>2</th>\n",
       "      <td>maxim</td>\n",
       "      <td>an expression of a general truth or principle,...</td>\n",
       "    </tr>\n",
       "    <tr>\n",
       "      <th>3</th>\n",
       "      <td>ostentation</td>\n",
       "      <td>pretentious or conspicuous show, as of wealth ...</td>\n",
       "    </tr>\n",
       "    <tr>\n",
       "      <th>4</th>\n",
       "      <td>aghast</td>\n",
       "      <td>struck with overwhelming shock or amazement; f...</td>\n",
       "    </tr>\n",
       "    <tr>\n",
       "      <th>5</th>\n",
       "      <td>acclaim</td>\n",
       "      <td>to welcome or salute with shouts or sounds of ...</td>\n",
       "    </tr>\n",
       "    <tr>\n",
       "      <th>6</th>\n",
       "      <td>bolster</td>\n",
       "      <td>a long, often cylindrical, cushion or pillow f...</td>\n",
       "    </tr>\n",
       "    <tr>\n",
       "      <th>7</th>\n",
       "      <td>erudite</td>\n",
       "      <td>characterized by great knowledge; learned or s...</td>\n",
       "    </tr>\n",
       "  </tbody>\n",
       "</table>\n",
       "</div>"
      ],
      "text/plain": [
       "          Word                                            Meaning\n",
       "0      languid  lacking in vigor or vitality; slack or slow:a ...\n",
       "1      censure  strong or vehement expression of disapproval: ...\n",
       "2        maxim  an expression of a general truth or principle,...\n",
       "3  ostentation  pretentious or conspicuous show, as of wealth ...\n",
       "4       aghast  struck with overwhelming shock or amazement; f...\n",
       "5      acclaim  to welcome or salute with shouts or sounds of ...\n",
       "6      bolster  a long, often cylindrical, cushion or pillow f...\n",
       "7      erudite  characterized by great knowledge; learned or s..."
      ]
     },
     "execution_count": 3,
     "metadata": {},
     "output_type": "execute_result"
    }
   ],
   "source": [
    "dff"
   ]
  }
 ],
 "metadata": {
  "kernelspec": {
   "display_name": "Python 3",
   "language": "python",
   "name": "python3"
  },
  "language_info": {
   "codemirror_mode": {
    "name": "ipython",
    "version": 3
   },
   "file_extension": ".py",
   "mimetype": "text/x-python",
   "name": "python",
   "nbconvert_exporter": "python",
   "pygments_lexer": "ipython3",
   "version": "3.8.5"
  }
 },
 "nbformat": 4,
 "nbformat_minor": 4
}
